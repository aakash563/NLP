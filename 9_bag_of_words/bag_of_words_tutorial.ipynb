{
 "cells": [
  {
   "cell_type": "markdown",
   "id": "b062f314",
   "metadata": {},
   "source": [
    "<h2 align='center'>NLP Tutorial: Text Representation - Bag Of Words (BOW)</h2>"
   ]
  },
  {
   "cell_type": "code",
   "execution_count": 26,
   "id": "54f8d7a3",
   "metadata": {},
   "outputs": [],
   "source": [
    "import pandas as pd\n",
    "import numpy as np"
   ]
  },
  {
   "cell_type": "code",
   "execution_count": 27,
   "id": "e8912b1f",
   "metadata": {},
   "outputs": [
    {
     "data": {
      "text/html": [
       "<div>\n",
       "<style scoped>\n",
       "    .dataframe tbody tr th:only-of-type {\n",
       "        vertical-align: middle;\n",
       "    }\n",
       "\n",
       "    .dataframe tbody tr th {\n",
       "        vertical-align: top;\n",
       "    }\n",
       "\n",
       "    .dataframe thead th {\n",
       "        text-align: right;\n",
       "    }\n",
       "</style>\n",
       "<table border=\"1\" class=\"dataframe\">\n",
       "  <thead>\n",
       "    <tr style=\"text-align: right;\">\n",
       "      <th></th>\n",
       "      <th>Category</th>\n",
       "      <th>Message</th>\n",
       "    </tr>\n",
       "  </thead>\n",
       "  <tbody>\n",
       "    <tr>\n",
       "      <th>0</th>\n",
       "      <td>ham</td>\n",
       "      <td>Go until jurong point, crazy.. Available only ...</td>\n",
       "    </tr>\n",
       "    <tr>\n",
       "      <th>1</th>\n",
       "      <td>ham</td>\n",
       "      <td>Ok lar... Joking wif u oni...</td>\n",
       "    </tr>\n",
       "    <tr>\n",
       "      <th>2</th>\n",
       "      <td>spam</td>\n",
       "      <td>Free entry in 2 a wkly comp to win FA Cup fina...</td>\n",
       "    </tr>\n",
       "    <tr>\n",
       "      <th>3</th>\n",
       "      <td>ham</td>\n",
       "      <td>U dun say so early hor... U c already then say...</td>\n",
       "    </tr>\n",
       "    <tr>\n",
       "      <th>4</th>\n",
       "      <td>ham</td>\n",
       "      <td>Nah I don't think he goes to usf, he lives aro...</td>\n",
       "    </tr>\n",
       "  </tbody>\n",
       "</table>\n",
       "</div>"
      ],
      "text/plain": [
       "  Category                                            Message\n",
       "0      ham  Go until jurong point, crazy.. Available only ...\n",
       "1      ham                      Ok lar... Joking wif u oni...\n",
       "2     spam  Free entry in 2 a wkly comp to win FA Cup fina...\n",
       "3      ham  U dun say so early hor... U c already then say...\n",
       "4      ham  Nah I don't think he goes to usf, he lives aro..."
      ]
     },
     "execution_count": 27,
     "metadata": {},
     "output_type": "execute_result"
    }
   ],
   "source": [
    "df = pd.read_csv(\"spam.csv\")\n",
    "df.head()"
   ]
  },
  {
   "cell_type": "code",
   "execution_count": 28,
   "id": "fb845148",
   "metadata": {},
   "outputs": [
    {
     "data": {
      "text/plain": [
       "Category\n",
       "ham     4825\n",
       "spam     747\n",
       "Name: count, dtype: int64"
      ]
     },
     "execution_count": 28,
     "metadata": {},
     "output_type": "execute_result"
    }
   ],
   "source": [
    "df['Category'].value_counts()"
   ]
  },
  {
   "cell_type": "code",
   "execution_count": 29,
   "id": "e4f5ae86",
   "metadata": {},
   "outputs": [
    {
     "data": {
      "text/plain": [
       "Category\n",
       "ham     4825\n",
       "spam     747\n",
       "Name: count, dtype: int64"
      ]
     },
     "execution_count": 29,
     "metadata": {},
     "output_type": "execute_result"
    }
   ],
   "source": [
    "df.Category.value_counts()"
   ]
  },
  {
   "cell_type": "code",
   "execution_count": 30,
   "id": "4f85bd2a",
   "metadata": {},
   "outputs": [],
   "source": [
    "def change_cateogy(x):\n",
    "    if x=='spam':\n",
    "        return 1\n",
    "    else:\n",
    "        return 0"
   ]
  },
  {
   "cell_type": "code",
   "execution_count": 31,
   "id": "ce3d207b",
   "metadata": {},
   "outputs": [],
   "source": [
    "df['spam'] = df['Category'].apply(lambda x: 1 if x =='spam' else 0)"
   ]
  },
  {
   "cell_type": "code",
   "execution_count": 32,
   "id": "6b665e00",
   "metadata": {},
   "outputs": [
    {
     "data": {
      "text/plain": [
       "(5572, 3)"
      ]
     },
     "execution_count": 32,
     "metadata": {},
     "output_type": "execute_result"
    }
   ],
   "source": [
    "df.shape"
   ]
  },
  {
   "cell_type": "code",
   "execution_count": 33,
   "id": "0fdd3b0c",
   "metadata": {
    "scrolled": true
   },
   "outputs": [
    {
     "data": {
      "text/html": [
       "<div>\n",
       "<style scoped>\n",
       "    .dataframe tbody tr th:only-of-type {\n",
       "        vertical-align: middle;\n",
       "    }\n",
       "\n",
       "    .dataframe tbody tr th {\n",
       "        vertical-align: top;\n",
       "    }\n",
       "\n",
       "    .dataframe thead th {\n",
       "        text-align: right;\n",
       "    }\n",
       "</style>\n",
       "<table border=\"1\" class=\"dataframe\">\n",
       "  <thead>\n",
       "    <tr style=\"text-align: right;\">\n",
       "      <th></th>\n",
       "      <th>Category</th>\n",
       "      <th>Message</th>\n",
       "      <th>spam</th>\n",
       "    </tr>\n",
       "  </thead>\n",
       "  <tbody>\n",
       "    <tr>\n",
       "      <th>0</th>\n",
       "      <td>ham</td>\n",
       "      <td>Go until jurong point, crazy.. Available only ...</td>\n",
       "      <td>0</td>\n",
       "    </tr>\n",
       "    <tr>\n",
       "      <th>1</th>\n",
       "      <td>ham</td>\n",
       "      <td>Ok lar... Joking wif u oni...</td>\n",
       "      <td>0</td>\n",
       "    </tr>\n",
       "    <tr>\n",
       "      <th>2</th>\n",
       "      <td>spam</td>\n",
       "      <td>Free entry in 2 a wkly comp to win FA Cup fina...</td>\n",
       "      <td>1</td>\n",
       "    </tr>\n",
       "    <tr>\n",
       "      <th>3</th>\n",
       "      <td>ham</td>\n",
       "      <td>U dun say so early hor... U c already then say...</td>\n",
       "      <td>0</td>\n",
       "    </tr>\n",
       "    <tr>\n",
       "      <th>4</th>\n",
       "      <td>ham</td>\n",
       "      <td>Nah I don't think he goes to usf, he lives aro...</td>\n",
       "      <td>0</td>\n",
       "    </tr>\n",
       "  </tbody>\n",
       "</table>\n",
       "</div>"
      ],
      "text/plain": [
       "  Category                                            Message  spam\n",
       "0      ham  Go until jurong point, crazy.. Available only ...     0\n",
       "1      ham                      Ok lar... Joking wif u oni...     0\n",
       "2     spam  Free entry in 2 a wkly comp to win FA Cup fina...     1\n",
       "3      ham  U dun say so early hor... U c already then say...     0\n",
       "4      ham  Nah I don't think he goes to usf, he lives aro...     0"
      ]
     },
     "execution_count": 33,
     "metadata": {},
     "output_type": "execute_result"
    }
   ],
   "source": [
    "df.head()"
   ]
  },
  {
   "cell_type": "markdown",
   "id": "c14da82f",
   "metadata": {},
   "source": [
    "<h3>Train test split</h3>"
   ]
  },
  {
   "cell_type": "code",
   "execution_count": 34,
   "id": "55c57d7e",
   "metadata": {},
   "outputs": [],
   "source": [
    "from sklearn.model_selection import train_test_split\n",
    "\n",
    "X_train, X_test, y_train, y_test = train_test_split(df.Message, df.spam, test_size=0.2)"
   ]
  },
  {
   "cell_type": "code",
   "execution_count": 35,
   "id": "0c434635",
   "metadata": {},
   "outputs": [
    {
     "data": {
      "text/plain": [
       "(4457,)"
      ]
     },
     "execution_count": 35,
     "metadata": {},
     "output_type": "execute_result"
    }
   ],
   "source": [
    "X_train.shape"
   ]
  },
  {
   "cell_type": "code",
   "execution_count": 36,
   "id": "0322e41b",
   "metadata": {},
   "outputs": [
    {
     "data": {
      "text/plain": [
       "(1115,)"
      ]
     },
     "execution_count": 36,
     "metadata": {},
     "output_type": "execute_result"
    }
   ],
   "source": [
    "X_test.shape"
   ]
  },
  {
   "cell_type": "code",
   "execution_count": 37,
   "id": "2b8afdd0",
   "metadata": {},
   "outputs": [
    {
     "data": {
      "text/plain": [
       "pandas.core.series.Series"
      ]
     },
     "execution_count": 37,
     "metadata": {},
     "output_type": "execute_result"
    }
   ],
   "source": [
    "type(X_train)"
   ]
  },
  {
   "cell_type": "code",
   "execution_count": 38,
   "id": "4c31562f",
   "metadata": {
    "scrolled": true
   },
   "outputs": [
    {
     "data": {
      "text/plain": [
       "4752    Your weekly Cool-Mob tones are ready to downlo...\n",
       "1925                                                   Ok\n",
       "1366    HOT LIVE FANTASIES call now 08707509020 Just 2...\n",
       "3610    Joy's father is John. Then John is the ____ of...\n",
       "Name: Message, dtype: object"
      ]
     },
     "execution_count": 38,
     "metadata": {},
     "output_type": "execute_result"
    }
   ],
   "source": [
    "X_train[:4]"
   ]
  },
  {
   "cell_type": "code",
   "execution_count": 14,
   "id": "fa77b8e4",
   "metadata": {},
   "outputs": [
    {
     "ename": "KeyError",
     "evalue": "915",
     "output_type": "error",
     "traceback": [
      "\u001b[1;31m---------------------------------------------------------------------------\u001b[0m",
      "\u001b[1;31mKeyError\u001b[0m                                  Traceback (most recent call last)",
      "File \u001b[1;32m~\\.conda\\envs\\nlp\\lib\\site-packages\\pandas\\core\\indexes\\base.py:3653\u001b[0m, in \u001b[0;36mIndex.get_loc\u001b[1;34m(self, key)\u001b[0m\n\u001b[0;32m   3652\u001b[0m \u001b[38;5;28;01mtry\u001b[39;00m:\n\u001b[1;32m-> 3653\u001b[0m     \u001b[38;5;28;01mreturn\u001b[39;00m \u001b[38;5;28;43mself\u001b[39;49m\u001b[38;5;241;43m.\u001b[39;49m\u001b[43m_engine\u001b[49m\u001b[38;5;241;43m.\u001b[39;49m\u001b[43mget_loc\u001b[49m\u001b[43m(\u001b[49m\u001b[43mcasted_key\u001b[49m\u001b[43m)\u001b[49m\n\u001b[0;32m   3654\u001b[0m \u001b[38;5;28;01mexcept\u001b[39;00m \u001b[38;5;167;01mKeyError\u001b[39;00m \u001b[38;5;28;01mas\u001b[39;00m err:\n",
      "File \u001b[1;32m~\\.conda\\envs\\nlp\\lib\\site-packages\\pandas\\_libs\\index.pyx:147\u001b[0m, in \u001b[0;36mpandas._libs.index.IndexEngine.get_loc\u001b[1;34m()\u001b[0m\n",
      "File \u001b[1;32m~\\.conda\\envs\\nlp\\lib\\site-packages\\pandas\\_libs\\index.pyx:176\u001b[0m, in \u001b[0;36mpandas._libs.index.IndexEngine.get_loc\u001b[1;34m()\u001b[0m\n",
      "File \u001b[1;32mpandas\\_libs\\hashtable_class_helper.pxi:2606\u001b[0m, in \u001b[0;36mpandas._libs.hashtable.Int64HashTable.get_item\u001b[1;34m()\u001b[0m\n",
      "File \u001b[1;32mpandas\\_libs\\hashtable_class_helper.pxi:2630\u001b[0m, in \u001b[0;36mpandas._libs.hashtable.Int64HashTable.get_item\u001b[1;34m()\u001b[0m\n",
      "\u001b[1;31mKeyError\u001b[0m: 915",
      "\nThe above exception was the direct cause of the following exception:\n",
      "\u001b[1;31mKeyError\u001b[0m                                  Traceback (most recent call last)",
      "Cell \u001b[1;32mIn[14], line 1\u001b[0m\n\u001b[1;32m----> 1\u001b[0m \u001b[43mX_train\u001b[49m\u001b[43m[\u001b[49m\u001b[43m:\u001b[49m\u001b[38;5;241;43m4\u001b[39;49m\u001b[43m]\u001b[49m\u001b[43m[\u001b[49m\u001b[38;5;241;43m915\u001b[39;49m\u001b[43m]\u001b[49m\n",
      "File \u001b[1;32m~\\.conda\\envs\\nlp\\lib\\site-packages\\pandas\\core\\series.py:1007\u001b[0m, in \u001b[0;36mSeries.__getitem__\u001b[1;34m(self, key)\u001b[0m\n\u001b[0;32m   1004\u001b[0m     \u001b[38;5;28;01mreturn\u001b[39;00m \u001b[38;5;28mself\u001b[39m\u001b[38;5;241m.\u001b[39m_values[key]\n\u001b[0;32m   1006\u001b[0m \u001b[38;5;28;01melif\u001b[39;00m key_is_scalar:\n\u001b[1;32m-> 1007\u001b[0m     \u001b[38;5;28;01mreturn\u001b[39;00m \u001b[38;5;28;43mself\u001b[39;49m\u001b[38;5;241;43m.\u001b[39;49m\u001b[43m_get_value\u001b[49m\u001b[43m(\u001b[49m\u001b[43mkey\u001b[49m\u001b[43m)\u001b[49m\n\u001b[0;32m   1009\u001b[0m \u001b[38;5;28;01mif\u001b[39;00m is_hashable(key):\n\u001b[0;32m   1010\u001b[0m     \u001b[38;5;66;03m# Otherwise index.get_value will raise InvalidIndexError\u001b[39;00m\n\u001b[0;32m   1011\u001b[0m     \u001b[38;5;28;01mtry\u001b[39;00m:\n\u001b[0;32m   1012\u001b[0m         \u001b[38;5;66;03m# For labels that don't resolve as scalars like tuples and frozensets\u001b[39;00m\n",
      "File \u001b[1;32m~\\.conda\\envs\\nlp\\lib\\site-packages\\pandas\\core\\series.py:1116\u001b[0m, in \u001b[0;36mSeries._get_value\u001b[1;34m(self, label, takeable)\u001b[0m\n\u001b[0;32m   1113\u001b[0m     \u001b[38;5;28;01mreturn\u001b[39;00m \u001b[38;5;28mself\u001b[39m\u001b[38;5;241m.\u001b[39m_values[label]\n\u001b[0;32m   1115\u001b[0m \u001b[38;5;66;03m# Similar to Index.get_value, but we do not fall back to positional\u001b[39;00m\n\u001b[1;32m-> 1116\u001b[0m loc \u001b[38;5;241m=\u001b[39m \u001b[38;5;28;43mself\u001b[39;49m\u001b[38;5;241;43m.\u001b[39;49m\u001b[43mindex\u001b[49m\u001b[38;5;241;43m.\u001b[39;49m\u001b[43mget_loc\u001b[49m\u001b[43m(\u001b[49m\u001b[43mlabel\u001b[49m\u001b[43m)\u001b[49m\n\u001b[0;32m   1118\u001b[0m \u001b[38;5;28;01mif\u001b[39;00m is_integer(loc):\n\u001b[0;32m   1119\u001b[0m     \u001b[38;5;28;01mreturn\u001b[39;00m \u001b[38;5;28mself\u001b[39m\u001b[38;5;241m.\u001b[39m_values[loc]\n",
      "File \u001b[1;32m~\\.conda\\envs\\nlp\\lib\\site-packages\\pandas\\core\\indexes\\base.py:3655\u001b[0m, in \u001b[0;36mIndex.get_loc\u001b[1;34m(self, key)\u001b[0m\n\u001b[0;32m   3653\u001b[0m     \u001b[38;5;28;01mreturn\u001b[39;00m \u001b[38;5;28mself\u001b[39m\u001b[38;5;241m.\u001b[39m_engine\u001b[38;5;241m.\u001b[39mget_loc(casted_key)\n\u001b[0;32m   3654\u001b[0m \u001b[38;5;28;01mexcept\u001b[39;00m \u001b[38;5;167;01mKeyError\u001b[39;00m \u001b[38;5;28;01mas\u001b[39;00m err:\n\u001b[1;32m-> 3655\u001b[0m     \u001b[38;5;28;01mraise\u001b[39;00m \u001b[38;5;167;01mKeyError\u001b[39;00m(key) \u001b[38;5;28;01mfrom\u001b[39;00m \u001b[38;5;21;01merr\u001b[39;00m\n\u001b[0;32m   3656\u001b[0m \u001b[38;5;28;01mexcept\u001b[39;00m \u001b[38;5;167;01mTypeError\u001b[39;00m:\n\u001b[0;32m   3657\u001b[0m     \u001b[38;5;66;03m# If we have a listlike key, _check_indexing_error will raise\u001b[39;00m\n\u001b[0;32m   3658\u001b[0m     \u001b[38;5;66;03m#  InvalidIndexError. Otherwise we fall through and re-raise\u001b[39;00m\n\u001b[0;32m   3659\u001b[0m     \u001b[38;5;66;03m#  the TypeError.\u001b[39;00m\n\u001b[0;32m   3660\u001b[0m     \u001b[38;5;28mself\u001b[39m\u001b[38;5;241m.\u001b[39m_check_indexing_error(key)\n",
      "\u001b[1;31mKeyError\u001b[0m: 915"
     ]
    }
   ],
   "source": [
    "X_train[:4][915]"
   ]
  },
  {
   "cell_type": "code",
   "execution_count": 39,
   "id": "425d18a6",
   "metadata": {},
   "outputs": [
    {
     "data": {
      "text/plain": [
       "pandas.core.series.Series"
      ]
     },
     "execution_count": 39,
     "metadata": {},
     "output_type": "execute_result"
    }
   ],
   "source": [
    "type(y_train)"
   ]
  },
  {
   "cell_type": "code",
   "execution_count": 40,
   "id": "0a441180",
   "metadata": {},
   "outputs": [
    {
     "data": {
      "text/plain": [
       "4752    1\n",
       "1925    0\n",
       "1366    1\n",
       "3610    0\n",
       "Name: spam, dtype: int64"
      ]
     },
     "execution_count": 40,
     "metadata": {},
     "output_type": "execute_result"
    }
   ],
   "source": [
    "y_train[:4]"
   ]
  },
  {
   "cell_type": "code",
   "execution_count": 41,
   "id": "0144b67b",
   "metadata": {
    "scrolled": true
   },
   "outputs": [
    {
     "data": {
      "text/plain": [
       "numpy.ndarray"
      ]
     },
     "execution_count": 41,
     "metadata": {},
     "output_type": "execute_result"
    }
   ],
   "source": [
    "type(X_train.values)"
   ]
  },
  {
   "cell_type": "markdown",
   "id": "b7d2c01f",
   "metadata": {},
   "source": [
    "<h3>Create bag of words representation using CountVectorizer</h3>"
   ]
  },
  {
   "cell_type": "code",
   "execution_count": 42,
   "id": "6e4803c2",
   "metadata": {},
   "outputs": [
    {
     "data": {
      "text/plain": [
       "array(['Your weekly Cool-Mob tones are ready to download !This weeks new Tones include: 1) Crazy Frog-AXEL F>>> 2) Akon-Lonely>>> 3) Black Eyed-Dont P >>>More info in n',\n",
       "       'Ok',\n",
       "       'HOT LIVE FANTASIES call now 08707509020 Just 20p per min NTT Ltd, PO Box 1327 Croydon CR9 5WB 0870..k',\n",
       "       ...,\n",
       "       \"I shall book chez jules for half eight, if that's ok with you?\",\n",
       "       'Thanks for your subscription to Ringtone UK your mobile will be charged £5/month Please confirm by replying YES or NO. If you reply NO you will not be charged',\n",
       "       'dont make ne plans for nxt wknd coz she wants us to come down then ok'],\n",
       "      dtype=object)"
      ]
     },
     "execution_count": 42,
     "metadata": {},
     "output_type": "execute_result"
    }
   ],
   "source": [
    "X_train.values"
   ]
  },
  {
   "cell_type": "code",
   "execution_count": 43,
   "id": "41a212bd",
   "metadata": {},
   "outputs": [
    {
     "data": {
      "text/plain": [
       "<4457x7697 sparse matrix of type '<class 'numpy.int64'>'\n",
       "\twith 59340 stored elements in Compressed Sparse Row format>"
      ]
     },
     "execution_count": 43,
     "metadata": {},
     "output_type": "execute_result"
    }
   ],
   "source": [
    "from sklearn.feature_extraction.text import CountVectorizer # import CountVectorizer\n",
    "\n",
    "v = CountVectorizer() # create instace\n",
    "\n",
    "X_train_cv = v.fit_transform(X_train.values)\n",
    "X_train_cv"
   ]
  },
  {
   "cell_type": "code",
   "execution_count": 44,
   "id": "30a01ec3",
   "metadata": {},
   "outputs": [
    {
     "data": {
      "text/plain": [
       "array([0, 0, 0, ..., 0, 0, 0], dtype=int64)"
      ]
     },
     "execution_count": 44,
     "metadata": {},
     "output_type": "execute_result"
    }
   ],
   "source": [
    "X_train_cv.toarray()[:2][0]"
   ]
  },
  {
   "cell_type": "code",
   "execution_count": 45,
   "id": "e3846715",
   "metadata": {},
   "outputs": [
    {
     "data": {
      "text/plain": [
       "(4457, 7697)"
      ]
     },
     "execution_count": 45,
     "metadata": {},
     "output_type": "execute_result"
    }
   ],
   "source": [
    "X_train_cv.shape"
   ]
  },
  {
   "cell_type": "code",
   "execution_count": 46,
   "id": "ecd24708",
   "metadata": {},
   "outputs": [
    {
     "data": {
      "text/plain": [
       "array(['0207', '02072069400', '02073162414', '021', '03', '04', '0430',\n",
       "       '05', '050703', '0578', '06', '07', '07008009200', '07046744435',\n",
       "       '07090201529', '07090298926', '07123456789', '0721072',\n",
       "       '07732584351', '07734396839'], dtype=object)"
      ]
     },
     "execution_count": 46,
     "metadata": {},
     "output_type": "execute_result"
    }
   ],
   "source": [
    "v.get_feature_names_out()[10:30]"
   ]
  },
  {
   "cell_type": "code",
   "execution_count": 47,
   "id": "12f55cc1",
   "metadata": {
    "scrolled": true
   },
   "outputs": [
    {
     "data": {
      "text/plain": [
       "'chef'"
      ]
     },
     "execution_count": 47,
     "metadata": {},
     "output_type": "execute_result"
    }
   ],
   "source": [
    "v.get_feature_names_out()[1771]"
   ]
  },
  {
   "cell_type": "code",
   "execution_count": 48,
   "id": "7ed0a094",
   "metadata": {},
   "outputs": [
    {
     "data": {
      "text/plain": [
       "{'your': 7664,\n",
       " 'weekly': 7401,\n",
       " 'cool': 2008,\n",
       " 'mob': 4521,\n",
       " 'tones': 6927,\n",
       " 'are': 1052,\n",
       " 'ready': 5574,\n",
       " 'to': 6898,\n",
       " 'download': 2424,\n",
       " 'this': 6814,\n",
       " 'weeks': 7402,\n",
       " 'new': 4740,\n",
       " 'include': 3632,\n",
       " 'crazy': 2063,\n",
       " 'frog': 3013,\n",
       " 'axel': 1178,\n",
       " 'akon': 893,\n",
       " 'lonely': 4174,\n",
       " 'black': 1371,\n",
       " 'eyed': 2732,\n",
       " 'dont': 2404,\n",
       " 'more': 4562,\n",
       " 'info': 3659,\n",
       " 'in': 3625,\n",
       " 'ok': 4899,\n",
       " 'hot': 3497,\n",
       " 'live': 4134,\n",
       " 'fantasies': 2769,\n",
       " 'call': 1606,\n",
       " 'now': 4827,\n",
       " '08707509020': 91,\n",
       " 'just': 3858,\n",
       " '20p': 356,\n",
       " 'per': 5126,\n",
       " 'min': 4462,\n",
       " 'ntt': 4835,\n",
       " 'ltd': 4233,\n",
       " 'po': 5244,\n",
       " 'box': 1454,\n",
       " '1327': 297,\n",
       " 'croydon': 2080,\n",
       " 'cr9': 2051,\n",
       " '5wb': 567,\n",
       " '0870': 72,\n",
       " 'joy': 3840,\n",
       " 'father': 2782,\n",
       " 'is': 3734,\n",
       " 'john': 3822,\n",
       " 'then': 6788,\n",
       " 'the': 6774,\n",
       " '____': 745,\n",
       " 'of': 4876,\n",
       " 'if': 3584,\n",
       " 'ans': 985,\n",
       " 'ths': 6840,\n",
       " 'you': 7658,\n",
       " 'hav': 3340,\n",
       " 'lt': 4232,\n",
       " 'gt': 3246,\n",
       " 'iq': 3725,\n",
       " 'tis': 6877,\n",
       " 'ias': 3558,\n",
       " 'question': 5504,\n",
       " 'try': 7016,\n",
       " 'answer': 987,\n",
       " 'fine': 2854,\n",
       " 'anytime': 1007,\n",
       " 'all': 911,\n",
       " 'best': 1322,\n",
       " 'with': 7507,\n",
       " 'it': 3746,\n",
       " 'wewa': 7431,\n",
       " '130': 296,\n",
       " 'iriver': 3728,\n",
       " '255': 371,\n",
       " '128': 291,\n",
       " 'mb': 4382,\n",
       " 'well': 7411,\n",
       " 'done': 2402,\n",
       " 'costa': 2024,\n",
       " 'del': 2222,\n",
       " 'sol': 6265,\n",
       " 'holiday': 3459,\n",
       " 'or': 4959,\n",
       " '5000': 538,\n",
       " 'await': 1167,\n",
       " 'collection': 1897,\n",
       " '09050090044': 171,\n",
       " 'toclaim': 6904,\n",
       " 'sae': 5845,\n",
       " 'tcs': 6690,\n",
       " 'pobox334': 5251,\n",
       " 'stockport': 6460,\n",
       " 'sk38xh': 6175,\n",
       " 'cost': 2023,\n",
       " '50': 536,\n",
       " 'pm': 5243,\n",
       " 'max10mins': 4376,\n",
       " 'and': 962,\n",
       " 'by': 1590,\n",
       " 'when': 7440,\n",
       " 're': 5565,\n",
       " 'mean': 4390,\n",
       " 'hello': 3385,\n",
       " 'my': 4645,\n",
       " 'love': 4211,\n",
       " 'how': 3508,\n",
       " 'went': 7417,\n",
       " 'day': 2175,\n",
       " 'alright': 924,\n",
       " 'think': 6807,\n",
       " 'sweet': 6617,\n",
       " 'send': 5984,\n",
       " 'jolt': 3832,\n",
       " 'heart': 3368,\n",
       " 'remind': 5665,\n",
       " 'can': 1631,\n",
       " 'hear': 3364,\n",
       " 'screamed': 5928,\n",
       " 'across': 800,\n",
       " 'sea': 5938,\n",
       " 'for': 2932,\n",
       " 'world': 7555,\n",
       " 'ahmad': 875,\n",
       " 'al': 894,\n",
       " 'hallaq': 3293,\n",
       " 'loved': 4212,\n",
       " 'owned': 5020,\n",
       " 'possessive': 5300,\n",
       " 'passionate': 5081,\n",
       " 'kiss': 3931,\n",
       " 'but': 1575,\n",
       " 'really': 5582,\n",
       " 'quite': 5511,\n",
       " 'funny': 3040,\n",
       " 'lor': 4191,\n",
       " 'wat': 7359,\n",
       " 'shd': 6048,\n",
       " 'haf': 3281,\n",
       " 'run': 5827,\n",
       " 'shorter': 6091,\n",
       " 'distance': 2350,\n",
       " 'urgent': 7165,\n",
       " 'have': 3344,\n",
       " 'won': 7534,\n",
       " 'week': 7397,\n",
       " 'free': 2978,\n",
       " 'membership': 4420,\n",
       " 'our': 4993,\n",
       " '100': 261,\n",
       " '000': 1,\n",
       " 'prize': 5402,\n",
       " 'jackpot': 3766,\n",
       " 'txt': 7053,\n",
       " 'word': 7546,\n",
       " 'claim': 1821,\n",
       " 'no': 4778,\n",
       " '81010': 655,\n",
       " 'www': 7593,\n",
       " 'dbuk': 2179,\n",
       " 'net': 4725,\n",
       " 'lccltd': 4028,\n",
       " 'pobox': 5246,\n",
       " '4403ldnw1a7rw18': 494,\n",
       " 'whore': 7457,\n",
       " 'unbelievable': 7092,\n",
       " 'time': 6863,\n",
       " 'finish': 2856,\n",
       " '08707500020': 90,\n",
       " 'national': 4686,\n",
       " 'rate': 5550,\n",
       " 'yes': 7642,\n",
       " 'we': 7376,\n",
       " 'were': 7420,\n",
       " 'outside': 5005,\n",
       " 'like': 4095,\n",
       " 'hours': 3503,\n",
       " 'called': 1613,\n",
       " 'whole': 7455,\n",
       " 'family': 2762,\n",
       " 'wake': 7320,\n",
       " 'them': 6784,\n",
       " 'up': 7143,\n",
       " 'cause': 1690,\n",
       " 'started': 6419,\n",
       " 'at': 1121,\n",
       " 'am': 934,\n",
       " 'aight': 879,\n",
       " 'happening': 3316,\n",
       " 'on': 4918,\n",
       " 'side': 6126,\n",
       " 'dear': 2186,\n",
       " 'good': 3176,\n",
       " 'morning': 4566,\n",
       " 'feeling': 2801,\n",
       " 'yunny': 7680,\n",
       " 'goin': 3163,\n",
       " 'be': 1268,\n",
       " 'late': 4009,\n",
       " '500': 537,\n",
       " 'text': 6748,\n",
       " 'msgs': 4603,\n",
       " '80488': 651,\n",
       " 'll': 4142,\n",
       " 'credit': 2067,\n",
       " 'account': 790,\n",
       " 'home': 3464,\n",
       " 'work': 7548,\n",
       " 'do': 2367,\n",
       " 'meh': 4410,\n",
       " 'crashed': 2059,\n",
       " 'out': 4996,\n",
       " 'cuddled': 2103,\n",
       " 'sofa': 6261,\n",
       " 'hey': 3408,\n",
       " 'darlin': 2159,\n",
       " 'pick': 5180,\n",
       " 'college': 1898,\n",
       " 'tell': 6716,\n",
       " 'me': 4387,\n",
       " 'wen': 7414,\n",
       " 'where': 7444,\n",
       " 'mt': 4604,\n",
       " 'pete': 5153,\n",
       " 'xx': 7607,\n",
       " 'yeah': 7631,\n",
       " 'whatever': 7434,\n",
       " 'lol': 4168,\n",
       " 'checked': 1759,\n",
       " 'heading': 3359,\n",
       " 'drop': 2455,\n",
       " 'off': 4878,\n",
       " 'stuff': 6515,\n",
       " 'safe': 5846,\n",
       " 'trip': 7002,\n",
       " 'nigeria': 4757,\n",
       " 'wish': 7499,\n",
       " 'happiness': 3320,\n",
       " 'very': 7235,\n",
       " 'soon': 6293,\n",
       " 'company': 1926,\n",
       " 'share': 6045,\n",
       " 'moments': 4544,\n",
       " 'don': 2400,\n",
       " 'want': 7339,\n",
       " 'leave': 4042,\n",
       " 'barely': 1228,\n",
       " 'doing': 2391,\n",
       " 'what': 7433,\n",
       " 'stay': 6431,\n",
       " 'sane': 5870,\n",
       " 'fighting': 2831,\n",
       " 'constantly': 1983,\n",
       " 'isn': 3741,\n",
       " 'helping': 3391,\n",
       " 'mystery': 4653,\n",
       " 'solved': 6270,\n",
       " 'opened': 4942,\n",
       " 'email': 2568,\n",
       " 'he': 3355,\n",
       " 'sent': 5993,\n",
       " 'another': 984,\n",
       " 'batch': 1242,\n",
       " 'sweetie': 6620,\n",
       " 'house': 3504,\n",
       " 'water': 7365,\n",
       " 'dock': 2371,\n",
       " 'boat': 1410,\n",
       " 'rolled': 5787,\n",
       " 'newscaster': 4746,\n",
       " 'who': 7454,\n",
       " 'dabbles': 2137,\n",
       " 'jazz': 3789,\n",
       " 'flute': 2905,\n",
       " 'behind': 1303,\n",
       " 'wheel': 7438,\n",
       " 'hurry': 3543,\n",
       " 've': 7222,\n",
       " 'been': 1288,\n",
       " 'weed': 7396,\n",
       " 'deficient': 2214,\n",
       " 'three': 6831,\n",
       " 'days': 2176,\n",
       " 'carlos': 1666,\n",
       " 'down': 2423,\n",
       " 'from': 3014,\n",
       " 'him': 3423,\n",
       " 'so': 6257,\n",
       " 'swing': 6624,\n",
       " 'usf': 7186,\n",
       " 'little': 4133,\n",
       " 'bit': 1364,\n",
       " 'congrats': 1968,\n",
       " 'mobile': 4522,\n",
       " '3g': 463,\n",
       " 'videophones': 7246,\n",
       " 'yours': 7667,\n",
       " '09063458130': 209,\n",
       " 'videochat': 7245,\n",
       " 'wid': 7465,\n",
       " 'ur': 7161,\n",
       " 'mates': 4362,\n",
       " 'play': 5221,\n",
       " 'java': 3784,\n",
       " 'games': 3061,\n",
       " 'dload': 2364,\n",
       " 'polyph': 5275,\n",
       " 'music': 4634,\n",
       " 'noline': 4791,\n",
       " 'rentl': 5680,\n",
       " 'bx420': 1588,\n",
       " 'ip4': 3719,\n",
       " '5we': 568,\n",
       " '150p': 308,\n",
       " 'thanks': 6763,\n",
       " 'lot': 4199,\n",
       " 'wishes': 7501,\n",
       " 'birthday': 1362,\n",
       " 'making': 4311,\n",
       " 'truly': 7013,\n",
       " 'memorable': 4421,\n",
       " 'multiply': 4620,\n",
       " 'numbers': 4842,\n",
       " 'independently': 3647,\n",
       " 'count': 2032,\n",
       " 'decimal': 2198,\n",
       " 'points': 5265,\n",
       " 'division': 2356,\n",
       " 'push': 5481,\n",
       " 'places': 5210,\n",
       " 'showed': 6103,\n",
       " 'career': 1657,\n",
       " 'tel': 6711,\n",
       " 'added': 815,\n",
       " 'as': 1092,\n",
       " 'contact': 1984,\n",
       " 'indyarocks': 3654,\n",
       " 'com': 1903,\n",
       " 'sms': 6240,\n",
       " 'remove': 5672,\n",
       " 'phonebook': 5170,\n",
       " 'please': 5229,\n",
       " 'happened': 3314,\n",
       " 'switch': 6625,\n",
       " 'cell': 1707,\n",
       " 'isnt': 3742,\n",
       " 'care': 1654,\n",
       " 'give': 3137,\n",
       " 'tomorrow': 6924,\n",
       " 'cant': 1642,\n",
       " 'anyone': 1001,\n",
       " 'spare': 6329,\n",
       " 'room': 5791,\n",
       " 'top': 6945,\n",
       " 'head': 3356,\n",
       " 'mostly': 4572,\n",
       " 'not': 4814,\n",
       " 'that': 6770,\n",
       " 'will': 7477,\n",
       " 'once': 4922,\n",
       " 'get': 3110,\n",
       " 'which': 7449,\n",
       " 'site': 6165,\n",
       " 'songs': 6289,\n",
       " 'its': 3752,\n",
       " 'pls': 5236,\n",
       " 'jade': 3769,\n",
       " 'paul': 5094,\n",
       " 'didn': 2294,\n",
       " 'remember': 5660,\n",
       " 'barmed': 1231,\n",
       " 'talk': 6658,\n",
       " 'missionary': 4494,\n",
       " 'hook': 3476,\n",
       " 'doggy': 2386,\n",
       " 'standing': 6410,\n",
       " 'ringtone': 5765,\n",
       " 'sub': 6523,\n",
       " '1st': 338,\n",
       " 'subpoly': 6528,\n",
       " '81618': 658,\n",
       " 'stop': 6467,\n",
       " '08718727870': 145,\n",
       " 'friendship': 3001,\n",
       " 'poem': 5263,\n",
       " 'near': 4699,\n",
       " 'fear': 2794,\n",
       " 'cheer': 1764,\n",
       " 'tear': 6700,\n",
       " 'always': 932,\n",
       " 'gud': 3252,\n",
       " 'ni8': 4750,\n",
       " 'storming': 6480,\n",
       " 'msg': 4597,\n",
       " 'lift': 4088,\n",
       " 'phne': 5166,\n",
       " 'say': 5901,\n",
       " 'knw': 3946,\n",
       " 'wt': 7585,\n",
       " 'real': 5575,\n",
       " 'meaning': 4391,\n",
       " 'name': 4666,\n",
       " 'girl': 3131,\n",
       " 'dat': 2165,\n",
       " 'margaret': 4338,\n",
       " 'she': 6049,\n",
       " 'girlfrnd': 3132,\n",
       " 'grahmbell': 3210,\n",
       " 'invnted': 3713,\n",
       " 'telphone': 6720,\n",
       " 'moral': 4561,\n",
       " 'one': 4924,\n",
       " '4get': 519,\n",
       " 'person': 5145,\n",
       " 'bt': 1538,\n",
       " 'his': 3429,\n",
       " 'something': 6278,\n",
       " 'thats': 6773,\n",
       " 'okay': 4900,\n",
       " 'today': 6905,\n",
       " 'sorry': 6301,\n",
       " 'ever': 2662,\n",
       " 'was': 7353,\n",
       " 'angry': 969,\n",
       " 'misbehaved': 4485,\n",
       " 'hurt': 3544,\n",
       " 'plz': 5242,\n",
       " 'slap': 6189,\n",
       " 'urself': 7175,\n",
       " 'bcoz': 1262,\n",
       " 'fault': 2786,\n",
       " 'basically': 1237,\n",
       " 'remain': 5657,\n",
       " 'unconvinced': 7100,\n",
       " 'an': 957,\n",
       " 'elaborate': 2553,\n",
       " 'test': 6742,\n",
       " 'willpower': 7479,\n",
       " 'go': 3153,\n",
       " 'liao': 4075,\n",
       " 'ask': 1099,\n",
       " 'dad': 2139,\n",
       " 'maybe': 4381,\n",
       " 'some': 6271,\n",
       " 'pressies': 5375,\n",
       " 'post': 5304,\n",
       " 'her': 3398,\n",
       " 'l8r': 3965,\n",
       " 'class': 1830,\n",
       " 'fat': 2780,\n",
       " 'fingers': 2855,\n",
       " 'press': 5374,\n",
       " 'these': 6794,\n",
       " 'buttons': 1579,\n",
       " 'doesn': 2380,\n",
       " 'know': 3942,\n",
       " 'chikku': 1784,\n",
       " 'favourite': 2792,\n",
       " 'song': 6288,\n",
       " 'big': 1343,\n",
       " 'deal': 2183,\n",
       " 'take': 6651,\n",
       " 'gandhipuram': 3063,\n",
       " 'walk': 7324,\n",
       " 'cross': 2077,\n",
       " 'cut': 2127,\n",
       " 'road': 5774,\n",
       " 'right': 5758,\n",
       " 'street': 6489,\n",
       " 'turn': 7037,\n",
       " 'first': 2867,\n",
       " 'had': 3279,\n",
       " '11mths': 281,\n",
       " 'update': 7148,\n",
       " 'oranges': 4964,\n",
       " 'latest': 4012,\n",
       " 'colour': 1900,\n",
       " 'camera': 1627,\n",
       " 'mobiles': 4523,\n",
       " 'unlimited': 7129,\n",
       " 'weekend': 7399,\n",
       " 'calls': 1621,\n",
       " 'upd8': 7146,\n",
       " 'freefone': 2982,\n",
       " '08000839402': 53,\n",
       " '2stoptxt': 417,\n",
       " 'six': 6172,\n",
       " 'chances': 1725,\n",
       " 'win': 7480,\n",
       " 'cash': 1675,\n",
       " '20': 346,\n",
       " 'pounds': 5318,\n",
       " 'csh11': 2090,\n",
       " '87575': 701,\n",
       " '6days': 604,\n",
       " '16': 319,\n",
       " 'tsandcs': 7020,\n",
       " 'apply': 1028,\n",
       " 'reply': 5690,\n",
       " 'hl': 3438,\n",
       " 'oh': 4895,\n",
       " 'dang': 2151,\n",
       " 'usual': 7191,\n",
       " 'ard': 1051,\n",
       " '10': 260,\n",
       " 'smth': 6244,\n",
       " 'come': 1909,\n",
       " 'medical': 4400,\n",
       " '7pm': 638,\n",
       " 'forward': 2957,\n",
       " 'da': 2135,\n",
       " 'mark': 4341,\n",
       " 'works': 7554,\n",
       " 'gets': 3114,\n",
       " 'meet': 4404,\n",
       " 'afterwards': 856,\n",
       " 'should': 6096,\n",
       " 'cum': 2108,\n",
       " 'reach': 5566,\n",
       " 'only': 4930,\n",
       " 'telling': 6717,\n",
       " 'there': 6793,\n",
       " 'wil': 7473,\n",
       " 'going': 3165,\n",
       " 'ride': 5757,\n",
       " 'bike': 1346,\n",
       " 'hi': 3412,\n",
       " 'probably': 5408,\n",
       " 'having': 3350,\n",
       " 'too': 6937,\n",
       " 'much': 4614,\n",
       " 'fun': 3034,\n",
       " 'message': 4437,\n",
       " 'thought': 6825,\n",
       " 'id': 3572,\n",
       " 'cos': 2021,\n",
       " 'im': 3599,\n",
       " 'bored': 1436,\n",
       " 'james': 3772,\n",
       " 'has': 3332,\n",
       " 'farting': 2775,\n",
       " 'night': 4759,\n",
       " 'somebody': 6273,\n",
       " 'set': 6009,\n",
       " 'website': 7387,\n",
       " 'hold': 3456,\n",
       " 'em': 2567,\n",
       " 'using': 7188,\n",
       " 'eve': 2655,\n",
       " 'online': 4928,\n",
       " 'spacebucks': 6324,\n",
       " 'worry': 7560,\n",
       " 'though': 6824,\n",
       " 'understand': 7105,\n",
       " 'important': 3613,\n",
       " 'put': 5484,\n",
       " 'place': 5207,\n",
       " 'poorly': 5284,\n",
       " 'punishment': 5471,\n",
       " 'face': 2738,\n",
       " 'worst': 7562,\n",
       " 'thing': 6805,\n",
       " 'brb': 1486,\n",
       " 'gonna': 3174,\n",
       " 'kill': 3917,\n",
       " 'myself': 4651,\n",
       " 'snow': 6253,\n",
       " 'than': 6759,\n",
       " 'those': 6821,\n",
       " 'flurries': 2904,\n",
       " 'usually': 7192,\n",
       " 'melt': 4417,\n",
       " 'before': 1293,\n",
       " 'they': 6800,\n",
       " 'hit': 3431,\n",
       " 'ground': 3237,\n",
       " 'eek': 2532,\n",
       " 'haven': 3346,\n",
       " 'since': 6148,\n",
       " 'even': 2657,\n",
       " 'born': 1439,\n",
       " 'hmph': 3447,\n",
       " 'baller': 1208,\n",
       " 'hmmm': 3444,\n",
       " 'change': 1726,\n",
       " 'field': 2823,\n",
       " 'quickly': 5508,\n",
       " 'wanna': 7337,\n",
       " 'system': 6636,\n",
       " 'administrator': 822,\n",
       " 'network': 4731,\n",
       " 'working': 7552,\n",
       " 'technical': 6705,\n",
       " 'support': 6583,\n",
       " 'voice': 7281,\n",
       " 'process': 5415,\n",
       " 'came': 1626,\n",
       " 'last': 4006,\n",
       " 'wun': 7592,\n",
       " 'signing': 6135,\n",
       " 'tmr': 6892,\n",
       " 'hee': 3376,\n",
       " 'completely': 1937,\n",
       " 'form': 2947,\n",
       " 'clark': 1827,\n",
       " 'also': 926,\n",
       " 'utter': 7194,\n",
       " 'waste': 7356,\n",
       " 'din': 2315,\n",
       " 'bishan': 1363,\n",
       " 'lei': 4054,\n",
       " 'tot': 6955,\n",
       " 'lavender': 4022,\n",
       " 'back': 1195,\n",
       " 'brum': 1532,\n",
       " 'putting': 5487,\n",
       " 'us': 7176,\n",
       " 'keeping': 3892,\n",
       " 'happy': 3321,\n",
       " 'see': 5956,\n",
       " 'ummmmmaah': 7089,\n",
       " 'many': 4331,\n",
       " 'returns': 5740,\n",
       " 'yo': 7653,\n",
       " 'date': 2167,\n",
       " 'electricity': 2561,\n",
       " 'fml': 2909,\n",
       " 'ill': 3596,\n",
       " 'drink': 2445,\n",
       " 'pa': 5026,\n",
       " 'need': 4707,\n",
       " 'srs': 6394,\n",
       " 'model': 4533,\n",
       " 'mail': 4300,\n",
       " 'sony': 6290,\n",
       " 'ericson': 2625,\n",
       " 'der': 2250,\n",
       " 'luks': 4240,\n",
       " 'forgot': 2944,\n",
       " 'modl': 4534,\n",
       " 'aathi': 752,\n",
       " 'invited': 3711,\n",
       " 'xchat': 7600,\n",
       " 'final': 2848,\n",
       " 'attempt': 1133,\n",
       " 'chat': 1747,\n",
       " '86688': 691,\n",
       " 'msgrcvdhg': 4602,\n",
       " 'suite342': 6557,\n",
       " '2lands': 399,\n",
       " 'row': 5803,\n",
       " 'w1j6hl': 7301,\n",
       " 'ldn': 4031,\n",
       " '18': 324,\n",
       " 'yrs': 7674,\n",
       " 'booked': 1425,\n",
       " 'ticket': 6850,\n",
       " 'pongal': 5278,\n",
       " 'messages': 4439,\n",
       " 'without': 7509,\n",
       " 'any': 998,\n",
       " 'recharge': 5605,\n",
       " 'huh': 3527,\n",
       " 'empty': 2577,\n",
       " 'handed': 3298,\n",
       " 'probs': 5413,\n",
       " 'hon': 3466,\n",
       " 'doinat': 2390,\n",
       " 'mo': 4519,\n",
       " 'club': 1859,\n",
       " 'gr8': 3205,\n",
       " 'polys': 5277,\n",
       " 'direct': 2325,\n",
       " 'every': 2663,\n",
       " 'imagine': 3602,\n",
       " 'life': 4084,\n",
       " 'fast': 2777,\n",
       " 'searching': 5940,\n",
       " 'disturb': 2352,\n",
       " 'goodnoon': 3183,\n",
       " 'ya': 7620,\n",
       " 'abt': 771,\n",
       " 'tht': 6841,\n",
       " 'incident': 3630,\n",
       " 'sure': 6589,\n",
       " 'trying': 7018,\n",
       " 'make': 4307,\n",
       " 'xavier': 7599,\n",
       " 'smoke': 6234,\n",
       " 'because': 1279,\n",
       " 'after': 852,\n",
       " 'being': 1305,\n",
       " 'told': 6913,\n",
       " 'registered': 5641,\n",
       " 'optin': 4956,\n",
       " 'subscriber': 6533,\n",
       " 'draw': 2437,\n",
       " 'gift': 3124,\n",
       " 'voucher': 7290,\n",
       " 'entered': 2605,\n",
       " 'receipt': 5596,\n",
       " 'correct': 2019,\n",
       " '80062': 644,\n",
       " 'whats': 7435,\n",
       " 'no1': 4779,\n",
       " 'bbc': 1254,\n",
       " 'charts': 1743,\n",
       " 'frens': 2989,\n",
       " 'alone': 920,\n",
       " 'wif': 7467,\n",
       " 'mum': 4622,\n",
       " 'sis': 6161,\n",
       " 'sleep': 6191,\n",
       " 'later': 4011,\n",
       " 'enough': 2602,\n",
       " 'two': 7051,\n",
       " 'fucking': 3027,\n",
       " 'shoes': 6080,\n",
       " 'man': 4317,\n",
       " 'jay': 3785,\n",
       " 'says': 5904,\n",
       " 'loan': 4149,\n",
       " 'purpose': 5479,\n",
       " '75': 622,\n",
       " 'homeowners': 3465,\n",
       " 'tenants': 6727,\n",
       " 'welcome': 7409,\n",
       " 'previously': 5384,\n",
       " 'refused': 5635,\n",
       " 'still': 6456,\n",
       " 'help': 3388,\n",
       " '0800': 50,\n",
       " '1956669': 330,\n",
       " 'thanx': 6767,\n",
       " 'able': 762,\n",
       " 'funk': 3038,\n",
       " 'fone': 2920,\n",
       " 'tone': 6926,\n",
       " 'tones2u': 6928,\n",
       " 'ringtones': 5767,\n",
       " 'co': 1871,\n",
       " 'uk': 7082,\n",
       " 'original': 4978,\n",
       " '3gbp': 464,\n",
       " 'operator': 4947,\n",
       " 'rates': 5551,\n",
       " 'makes': 4308,\n",
       " 'sense': 5990,\n",
       " 'btw': 1540,\n",
       " 'difficult': 2305,\n",
       " 'guys': 3270,\n",
       " 'while': 7450,\n",
       " 'second': 5944,\n",
       " 'gas': 3075,\n",
       " 'gotta': 3198,\n",
       " 'people': 5124,\n",
       " 'trust': 7014,\n",
       " 'yijue': 7651,\n",
       " '11': 273,\n",
       " 'yet': 7645,\n",
       " 'nope': 4800,\n",
       " 'feelin': 2800,\n",
       " 'wuld': 7591,\n",
       " 'nuther': 4848,\n",
       " 'mayb': 4380,\n",
       " 'again': 859,\n",
       " 'comin': 1914,\n",
       " 'yourself': 7668,\n",
       " 'atleast': 1127,\n",
       " 'otherwise': 4988,\n",
       " 'miss': 4489,\n",
       " 'friend': 2998,\n",
       " 'shakespeare': 6035,\n",
       " 'shesil': 6057,\n",
       " 'sue': 6548,\n",
       " 'years': 7633,\n",
       " 'old': 4911,\n",
       " 'lapdancer': 3998,\n",
       " 'sex': 6018,\n",
       " 'bedroom': 1287,\n",
       " '89555': 717,\n",
       " 'textoperator': 6754,\n",
       " 'g2': 3048,\n",
       " '1da': 332,\n",
       " '150ppmsg': 314,\n",
       " 'goodmorning': 3180,\n",
       " 'watch': 7360,\n",
       " 'saw': 5900,\n",
       " 'few': 2816,\n",
       " 'swatch': 6611,\n",
       " 'thk': 6815,\n",
       " '116': 278,\n",
       " '2nd': 408,\n",
       " 'opinion': 4948,\n",
       " 'leh': 4053,\n",
       " 'around': 1075,\n",
       " 'got': 3192,\n",
       " 'car': 1650,\n",
       " 'tonight': 6933,\n",
       " 'whenever': 7441,\n",
       " 'tke': 6884,\n",
       " 'nyt': 4857,\n",
       " 'nothing': 4819,\n",
       " 'jus': 3857,\n",
       " 'would': 7569,\n",
       " 'ba': 1185,\n",
       " 'gua': 3247,\n",
       " 'faber': 2737,\n",
       " 'yest': 7643,\n",
       " 'already': 923,\n",
       " 'mah': 4296,\n",
       " 'missed': 4491,\n",
       " 'happen': 3312,\n",
       " 'reached': 5568,\n",
       " 'finally': 2849,\n",
       " 'food': 2923,\n",
       " 'dai': 2141,\n",
       " 'downloaded': 2425,\n",
       " 'exe': 2698,\n",
       " 'file': 2837,\n",
       " 'installing': 3683,\n",
       " 'pic': 5179,\n",
       " 'order': 4967,\n",
       " 'reference': 5626,\n",
       " 'number': 4841,\n",
       " 'x29': 7596,\n",
       " 'charged': 1736,\n",
       " 'arrive': 1082,\n",
       " 'customer': 2123,\n",
       " 'services': 6006,\n",
       " '09065989180': 223,\n",
       " 'balance': 1207,\n",
       " '600': 571,\n",
       " 'next': 4748,\n",
       " 'complete': 1935,\n",
       " 'landmark': 3992,\n",
       " 'bob': 1412,\n",
       " 'barry': 1235,\n",
       " 'ben': 1315,\n",
       " '83738': 675,\n",
       " 'luck': 4236,\n",
       " 'feel': 2799,\n",
       " 'bad': 1197,\n",
       " 'use': 7180,\n",
       " 'money': 4549,\n",
       " 'steak': 6438,\n",
       " 'dinner': 2321,\n",
       " 'someone': 6274,\n",
       " 'fancies': 2766,\n",
       " '09058097218': 186,\n",
       " 'find': 2852,\n",
       " 'ls15hb': 4229,\n",
       " 'select': 5969,\n",
       " 'astrology': 1117,\n",
       " 'waiting': 7319,\n",
       " 'quick': 5507,\n",
       " 'town': 6963,\n",
       " 'womdarfull': 7532,\n",
       " 'actor': 808,\n",
       " 'smsing': 6242,\n",
       " 'xy': 7618,\n",
       " 'neva': 4734,\n",
       " 'sort': 6302,\n",
       " 'wan': 7334,\n",
       " 'bring': 1510,\n",
       " 'along': 921,\n",
       " 'meeting': 4406,\n",
       " 'early': 2499,\n",
       " 'bird': 1356,\n",
       " 'purchases': 5476,\n",
       " 'freemsg': 2984,\n",
       " 'kinda': 3923,\n",
       " 'lnly': 4145,\n",
       " 'hope': 3480,\n",
       " 'keep': 3891,\n",
       " 'jst': 3843,\n",
       " 'cam': 1624,\n",
       " 'moby': 4530,\n",
       " '82242': 661,\n",
       " 'msg150p': 4598,\n",
       " '2rcv': 415,\n",
       " 'hlp': 3440,\n",
       " '08712317606': 103,\n",
       " 'wanted': 7341,\n",
       " 'wait': 7317,\n",
       " 'lect': 4045,\n",
       " 'finishes': 2859,\n",
       " 'hour': 3502,\n",
       " 'anyway': 1008,\n",
       " 'card': 1651,\n",
       " 'present': 5370,\n",
       " 'write': 7578,\n",
       " 'sign': 6130,\n",
       " 'left': 4048,\n",
       " 'orchard': 4966,\n",
       " 'ha': 3277,\n",
       " 'either': 2550,\n",
       " 'did': 2292,\n",
       " 'clever': 1841,\n",
       " 'simple': 6143,\n",
       " 'pears': 5114,\n",
       " 'other': 4986,\n",
       " 'perfect': 5130,\n",
       " 'christmas': 1811,\n",
       " 'obviously': 4869,\n",
       " 'eggs': 2542,\n",
       " 'pert': 5150,\n",
       " 'potato': 5312,\n",
       " 'speak': 6334,\n",
       " 'arr': 1077,\n",
       " 'oscar': 4983,\n",
       " '0a': 258,\n",
       " 'networks': 4733,\n",
       " 'allow': 916,\n",
       " 'companies': 1924,\n",
       " 'bill': 1347,\n",
       " 'responsible': 5722,\n",
       " 'their': 6781,\n",
       " 'suppliers': 6581,\n",
       " 'shop': 6083,\n",
       " 'guarantee': 3249,\n",
       " 'sell': 5976,\n",
       " 'specially': 6340,\n",
       " 'selected': 5970,\n",
       " 'receive': 5598,\n",
       " '2000': 348,\n",
       " 'pound': 5316,\n",
       " 'award': 1170,\n",
       " '08712402050': 107,\n",
       " 'lines': 4112,\n",
       " 'close': 1849,\n",
       " '10ppm': 271,\n",
       " 'cs': 2088,\n",
       " 'ag': 858,\n",
       " 'promo': 5433,\n",
       " 'mths': 4607,\n",
       " 'orange': 4963,\n",
       " 'video': 7244,\n",
       " 'phones': 5172,\n",
       " 'save': 5897,\n",
       " 'texts': 6756,\n",
       " 'callback': 1609,\n",
       " 'orno': 4979,\n",
       " 'opt': 4953,\n",
       " 'physics': 5177,\n",
       " 'youdoing': 7659,\n",
       " 'sar': 5878,\n",
       " 'xxx': 7610,\n",
       " 'mila': 4456,\n",
       " 'age23': 864,\n",
       " 'blonde': 1393,\n",
       " 'look': 4179,\n",
       " 'mtalk': 4605,\n",
       " '69866': 597,\n",
       " '30pp': 436,\n",
       " '5free': 560,\n",
       " 'increments': 3643,\n",
       " 'help08718728876': 3390,\n",
       " 'propose': 5444,\n",
       " 'seing': 5968,\n",
       " 'bloody': 1396,\n",
       " 'funky': 3039,\n",
       " 'shit': 6070,\n",
       " 'asssssholeeee': 1112,\n",
       " 'peoples': 5125,\n",
       " 'shy': 6120,\n",
       " 'oops': 4940,\n",
       " 'somerset': 6276,\n",
       " 'far': 2772,\n",
       " 'tomo': 6922,\n",
       " '44': 492,\n",
       " '7732584351': 630,\n",
       " 'nokia': 4787,\n",
       " '3510i': 450,\n",
       " 'phone': 5168,\n",
       " 'deliveredtomorrow': 2229,\n",
       " '300': 428,\n",
       " 'minutes': 4481,\n",
       " 'camcorder': 1625,\n",
       " '08000930705': 54,\n",
       " 'tension': 6730,\n",
       " 'smiling': 6232,\n",
       " 'innocent': 3673,\n",
       " 'terror': 6737,\n",
       " 'cruel': 2082,\n",
       " 'romantic': 5789,\n",
       " 'lovable': 4210,\n",
       " 'decent': 2194,\n",
       " 'joker': 3827,\n",
       " 'goodnight': 3181,\n",
       " 'thangam': 6761,\n",
       " 'private': 5399,\n",
       " '2004': 350,\n",
       " 'statement': 6427,\n",
       " '07742676969': 30,\n",
       " 'shows': 6110,\n",
       " '786': 632,\n",
       " 'unredeemed': 7134,\n",
       " 'bonus': 1422,\n",
       " '08719180248': 152,\n",
       " ...}"
      ]
     },
     "execution_count": 48,
     "metadata": {},
     "output_type": "execute_result"
    }
   ],
   "source": [
    "v.vocabulary_"
   ]
  },
  {
   "cell_type": "code",
   "execution_count": 49,
   "id": "a805af1f",
   "metadata": {},
   "outputs": [
    {
     "data": {
      "text/plain": [
       "array([0, 0, 0, ..., 0, 0, 0], dtype=int64)"
      ]
     },
     "execution_count": 49,
     "metadata": {},
     "output_type": "execute_result"
    }
   ],
   "source": [
    "X_train_np = X_train_cv.toarray()\n",
    "X_train_np[0]"
   ]
  },
  {
   "cell_type": "code",
   "execution_count": 50,
   "id": "79aa94f4",
   "metadata": {},
   "outputs": [
    {
     "data": {
      "text/plain": [
       "(array([ 893, 1052, 1178, 1371, 2008, 2063, 2404, 2424, 2732, 3013, 3625,\n",
       "        3632, 3659, 4174, 4521, 4562, 4740, 5574, 6814, 6898, 6927, 7401,\n",
       "        7402, 7664], dtype=int64),)"
      ]
     },
     "execution_count": 50,
     "metadata": {},
     "output_type": "execute_result"
    }
   ],
   "source": [
    "np.where(X_train_np[0]!=0)"
   ]
  },
  {
   "cell_type": "code",
   "execution_count": 51,
   "id": "50a37c71",
   "metadata": {
    "scrolled": true
   },
   "outputs": [
    {
     "data": {
      "text/plain": [
       "0"
      ]
     },
     "execution_count": 51,
     "metadata": {},
     "output_type": "execute_result"
    }
   ],
   "source": [
    "X_train_np[0][1771]"
   ]
  },
  {
   "cell_type": "markdown",
   "id": "e6ea444a",
   "metadata": {},
   "source": [
    "<h3>Train the naive bayes model</h3>"
   ]
  },
  {
   "cell_type": "code",
   "execution_count": 39,
   "id": "bf02cecc",
   "metadata": {},
   "outputs": [
    {
     "data": {
      "text/html": [
       "<style>#sk-container-id-1 {color: black;background-color: white;}#sk-container-id-1 pre{padding: 0;}#sk-container-id-1 div.sk-toggleable {background-color: white;}#sk-container-id-1 label.sk-toggleable__label {cursor: pointer;display: block;width: 100%;margin-bottom: 0;padding: 0.3em;box-sizing: border-box;text-align: center;}#sk-container-id-1 label.sk-toggleable__label-arrow:before {content: \"▸\";float: left;margin-right: 0.25em;color: #696969;}#sk-container-id-1 label.sk-toggleable__label-arrow:hover:before {color: black;}#sk-container-id-1 div.sk-estimator:hover label.sk-toggleable__label-arrow:before {color: black;}#sk-container-id-1 div.sk-toggleable__content {max-height: 0;max-width: 0;overflow: hidden;text-align: left;background-color: #f0f8ff;}#sk-container-id-1 div.sk-toggleable__content pre {margin: 0.2em;color: black;border-radius: 0.25em;background-color: #f0f8ff;}#sk-container-id-1 input.sk-toggleable__control:checked~div.sk-toggleable__content {max-height: 200px;max-width: 100%;overflow: auto;}#sk-container-id-1 input.sk-toggleable__control:checked~label.sk-toggleable__label-arrow:before {content: \"▾\";}#sk-container-id-1 div.sk-estimator input.sk-toggleable__control:checked~label.sk-toggleable__label {background-color: #d4ebff;}#sk-container-id-1 div.sk-label input.sk-toggleable__control:checked~label.sk-toggleable__label {background-color: #d4ebff;}#sk-container-id-1 input.sk-hidden--visually {border: 0;clip: rect(1px 1px 1px 1px);clip: rect(1px, 1px, 1px, 1px);height: 1px;margin: -1px;overflow: hidden;padding: 0;position: absolute;width: 1px;}#sk-container-id-1 div.sk-estimator {font-family: monospace;background-color: #f0f8ff;border: 1px dotted black;border-radius: 0.25em;box-sizing: border-box;margin-bottom: 0.5em;}#sk-container-id-1 div.sk-estimator:hover {background-color: #d4ebff;}#sk-container-id-1 div.sk-parallel-item::after {content: \"\";width: 100%;border-bottom: 1px solid gray;flex-grow: 1;}#sk-container-id-1 div.sk-label:hover label.sk-toggleable__label {background-color: #d4ebff;}#sk-container-id-1 div.sk-serial::before {content: \"\";position: absolute;border-left: 1px solid gray;box-sizing: border-box;top: 0;bottom: 0;left: 50%;z-index: 0;}#sk-container-id-1 div.sk-serial {display: flex;flex-direction: column;align-items: center;background-color: white;padding-right: 0.2em;padding-left: 0.2em;position: relative;}#sk-container-id-1 div.sk-item {position: relative;z-index: 1;}#sk-container-id-1 div.sk-parallel {display: flex;align-items: stretch;justify-content: center;background-color: white;position: relative;}#sk-container-id-1 div.sk-item::before, #sk-container-id-1 div.sk-parallel-item::before {content: \"\";position: absolute;border-left: 1px solid gray;box-sizing: border-box;top: 0;bottom: 0;left: 50%;z-index: -1;}#sk-container-id-1 div.sk-parallel-item {display: flex;flex-direction: column;z-index: 1;position: relative;background-color: white;}#sk-container-id-1 div.sk-parallel-item:first-child::after {align-self: flex-end;width: 50%;}#sk-container-id-1 div.sk-parallel-item:last-child::after {align-self: flex-start;width: 50%;}#sk-container-id-1 div.sk-parallel-item:only-child::after {width: 0;}#sk-container-id-1 div.sk-dashed-wrapped {border: 1px dashed gray;margin: 0 0.4em 0.5em 0.4em;box-sizing: border-box;padding-bottom: 0.4em;background-color: white;}#sk-container-id-1 div.sk-label label {font-family: monospace;font-weight: bold;display: inline-block;line-height: 1.2em;}#sk-container-id-1 div.sk-label-container {text-align: center;}#sk-container-id-1 div.sk-container {/* jupyter's `normalize.less` sets `[hidden] { display: none; }` but bootstrap.min.css set `[hidden] { display: none !important; }` so we also need the `!important` here to be able to override the default hidden behavior on the sphinx rendered scikit-learn.org. See: https://github.com/scikit-learn/scikit-learn/issues/21755 */display: inline-block !important;position: relative;}#sk-container-id-1 div.sk-text-repr-fallback {display: none;}</style><div id=\"sk-container-id-1\" class=\"sk-top-container\"><div class=\"sk-text-repr-fallback\"><pre>MultinomialNB()</pre><b>In a Jupyter environment, please rerun this cell to show the HTML representation or trust the notebook. <br />On GitHub, the HTML representation is unable to render, please try loading this page with nbviewer.org.</b></div><div class=\"sk-container\" hidden><div class=\"sk-item\"><div class=\"sk-estimator sk-toggleable\"><input class=\"sk-toggleable__control sk-hidden--visually\" id=\"sk-estimator-id-1\" type=\"checkbox\" checked><label for=\"sk-estimator-id-1\" class=\"sk-toggleable__label sk-toggleable__label-arrow\">MultinomialNB</label><div class=\"sk-toggleable__content\"><pre>MultinomialNB()</pre></div></div></div></div></div>"
      ],
      "text/plain": [
       "MultinomialNB()"
      ]
     },
     "execution_count": 39,
     "metadata": {},
     "output_type": "execute_result"
    }
   ],
   "source": [
    "from sklearn.naive_bayes import MultinomialNB\n",
    "\n",
    "model = MultinomialNB()\n",
    "model.fit(X_train_cv, y_train)"
   ]
  },
  {
   "cell_type": "code",
   "execution_count": 40,
   "id": "94f569a6",
   "metadata": {},
   "outputs": [],
   "source": [
    "X_test_cv = v.transform(X_test)"
   ]
  },
  {
   "cell_type": "markdown",
   "id": "101b8b8d",
   "metadata": {},
   "source": [
    "<h3>Evaluate Performance</h3>"
   ]
  },
  {
   "cell_type": "code",
   "execution_count": 41,
   "id": "1c0cb441",
   "metadata": {},
   "outputs": [
    {
     "name": "stdout",
     "output_type": "stream",
     "text": [
      "              precision    recall  f1-score   support\n",
      "\n",
      "           0       0.98      1.00      0.99       953\n",
      "           1       0.99      0.88      0.93       162\n",
      "\n",
      "    accuracy                           0.98      1115\n",
      "   macro avg       0.98      0.94      0.96      1115\n",
      "weighted avg       0.98      0.98      0.98      1115\n",
      "\n"
     ]
    }
   ],
   "source": [
    "from sklearn.metrics import classification_report\n",
    "\n",
    "y_pred = model.predict(X_test_cv)\n",
    "\n",
    "print(classification_report(y_test, y_pred))"
   ]
  },
  {
   "cell_type": "code",
   "execution_count": 42,
   "id": "27dcf0b7",
   "metadata": {
    "scrolled": true
   },
   "outputs": [
    {
     "data": {
      "text/plain": [
       "array([0, 1], dtype=int64)"
      ]
     },
     "execution_count": 42,
     "metadata": {},
     "output_type": "execute_result"
    }
   ],
   "source": [
    "emails = [\n",
    "    'Hey mohan, can we get together to watch footbal game tomorrow?',\n",
    "    'Upto 20% discount on parking, exclusive offer just for you. Dont miss this reward!'\n",
    "]\n",
    "\n",
    "emails_count = v.transform(emails)\n",
    "model.predict(emails_count)"
   ]
  },
  {
   "cell_type": "markdown",
   "id": "22c9e2e2",
   "metadata": {},
   "source": [
    "<h3>Train the model using sklearn pipeline and reduce number of lines of code</h3>"
   ]
  },
  {
   "cell_type": "code",
   "execution_count": 43,
   "id": "863f5ffa",
   "metadata": {},
   "outputs": [],
   "source": [
    "from sklearn.pipeline import Pipeline\n",
    "\n",
    "clf = Pipeline([\n",
    "    ('vectorizer', CountVectorizer()),\n",
    "    ('nb', MultinomialNB())\n",
    "])"
   ]
  },
  {
   "cell_type": "code",
   "execution_count": 44,
   "id": "26ecc1d4",
   "metadata": {},
   "outputs": [
    {
     "data": {
      "text/html": [
       "<style>#sk-container-id-2 {color: black;background-color: white;}#sk-container-id-2 pre{padding: 0;}#sk-container-id-2 div.sk-toggleable {background-color: white;}#sk-container-id-2 label.sk-toggleable__label {cursor: pointer;display: block;width: 100%;margin-bottom: 0;padding: 0.3em;box-sizing: border-box;text-align: center;}#sk-container-id-2 label.sk-toggleable__label-arrow:before {content: \"▸\";float: left;margin-right: 0.25em;color: #696969;}#sk-container-id-2 label.sk-toggleable__label-arrow:hover:before {color: black;}#sk-container-id-2 div.sk-estimator:hover label.sk-toggleable__label-arrow:before {color: black;}#sk-container-id-2 div.sk-toggleable__content {max-height: 0;max-width: 0;overflow: hidden;text-align: left;background-color: #f0f8ff;}#sk-container-id-2 div.sk-toggleable__content pre {margin: 0.2em;color: black;border-radius: 0.25em;background-color: #f0f8ff;}#sk-container-id-2 input.sk-toggleable__control:checked~div.sk-toggleable__content {max-height: 200px;max-width: 100%;overflow: auto;}#sk-container-id-2 input.sk-toggleable__control:checked~label.sk-toggleable__label-arrow:before {content: \"▾\";}#sk-container-id-2 div.sk-estimator input.sk-toggleable__control:checked~label.sk-toggleable__label {background-color: #d4ebff;}#sk-container-id-2 div.sk-label input.sk-toggleable__control:checked~label.sk-toggleable__label {background-color: #d4ebff;}#sk-container-id-2 input.sk-hidden--visually {border: 0;clip: rect(1px 1px 1px 1px);clip: rect(1px, 1px, 1px, 1px);height: 1px;margin: -1px;overflow: hidden;padding: 0;position: absolute;width: 1px;}#sk-container-id-2 div.sk-estimator {font-family: monospace;background-color: #f0f8ff;border: 1px dotted black;border-radius: 0.25em;box-sizing: border-box;margin-bottom: 0.5em;}#sk-container-id-2 div.sk-estimator:hover {background-color: #d4ebff;}#sk-container-id-2 div.sk-parallel-item::after {content: \"\";width: 100%;border-bottom: 1px solid gray;flex-grow: 1;}#sk-container-id-2 div.sk-label:hover label.sk-toggleable__label {background-color: #d4ebff;}#sk-container-id-2 div.sk-serial::before {content: \"\";position: absolute;border-left: 1px solid gray;box-sizing: border-box;top: 0;bottom: 0;left: 50%;z-index: 0;}#sk-container-id-2 div.sk-serial {display: flex;flex-direction: column;align-items: center;background-color: white;padding-right: 0.2em;padding-left: 0.2em;position: relative;}#sk-container-id-2 div.sk-item {position: relative;z-index: 1;}#sk-container-id-2 div.sk-parallel {display: flex;align-items: stretch;justify-content: center;background-color: white;position: relative;}#sk-container-id-2 div.sk-item::before, #sk-container-id-2 div.sk-parallel-item::before {content: \"\";position: absolute;border-left: 1px solid gray;box-sizing: border-box;top: 0;bottom: 0;left: 50%;z-index: -1;}#sk-container-id-2 div.sk-parallel-item {display: flex;flex-direction: column;z-index: 1;position: relative;background-color: white;}#sk-container-id-2 div.sk-parallel-item:first-child::after {align-self: flex-end;width: 50%;}#sk-container-id-2 div.sk-parallel-item:last-child::after {align-self: flex-start;width: 50%;}#sk-container-id-2 div.sk-parallel-item:only-child::after {width: 0;}#sk-container-id-2 div.sk-dashed-wrapped {border: 1px dashed gray;margin: 0 0.4em 0.5em 0.4em;box-sizing: border-box;padding-bottom: 0.4em;background-color: white;}#sk-container-id-2 div.sk-label label {font-family: monospace;font-weight: bold;display: inline-block;line-height: 1.2em;}#sk-container-id-2 div.sk-label-container {text-align: center;}#sk-container-id-2 div.sk-container {/* jupyter's `normalize.less` sets `[hidden] { display: none; }` but bootstrap.min.css set `[hidden] { display: none !important; }` so we also need the `!important` here to be able to override the default hidden behavior on the sphinx rendered scikit-learn.org. See: https://github.com/scikit-learn/scikit-learn/issues/21755 */display: inline-block !important;position: relative;}#sk-container-id-2 div.sk-text-repr-fallback {display: none;}</style><div id=\"sk-container-id-2\" class=\"sk-top-container\"><div class=\"sk-text-repr-fallback\"><pre>Pipeline(steps=[(&#x27;vectorizer&#x27;, CountVectorizer()), (&#x27;nb&#x27;, MultinomialNB())])</pre><b>In a Jupyter environment, please rerun this cell to show the HTML representation or trust the notebook. <br />On GitHub, the HTML representation is unable to render, please try loading this page with nbviewer.org.</b></div><div class=\"sk-container\" hidden><div class=\"sk-item sk-dashed-wrapped\"><div class=\"sk-label-container\"><div class=\"sk-label sk-toggleable\"><input class=\"sk-toggleable__control sk-hidden--visually\" id=\"sk-estimator-id-2\" type=\"checkbox\" ><label for=\"sk-estimator-id-2\" class=\"sk-toggleable__label sk-toggleable__label-arrow\">Pipeline</label><div class=\"sk-toggleable__content\"><pre>Pipeline(steps=[(&#x27;vectorizer&#x27;, CountVectorizer()), (&#x27;nb&#x27;, MultinomialNB())])</pre></div></div></div><div class=\"sk-serial\"><div class=\"sk-item\"><div class=\"sk-estimator sk-toggleable\"><input class=\"sk-toggleable__control sk-hidden--visually\" id=\"sk-estimator-id-3\" type=\"checkbox\" ><label for=\"sk-estimator-id-3\" class=\"sk-toggleable__label sk-toggleable__label-arrow\">CountVectorizer</label><div class=\"sk-toggleable__content\"><pre>CountVectorizer()</pre></div></div></div><div class=\"sk-item\"><div class=\"sk-estimator sk-toggleable\"><input class=\"sk-toggleable__control sk-hidden--visually\" id=\"sk-estimator-id-4\" type=\"checkbox\" ><label for=\"sk-estimator-id-4\" class=\"sk-toggleable__label sk-toggleable__label-arrow\">MultinomialNB</label><div class=\"sk-toggleable__content\"><pre>MultinomialNB()</pre></div></div></div></div></div></div></div>"
      ],
      "text/plain": [
       "Pipeline(steps=[('vectorizer', CountVectorizer()), ('nb', MultinomialNB())])"
      ]
     },
     "execution_count": 44,
     "metadata": {},
     "output_type": "execute_result"
    }
   ],
   "source": [
    "clf.fit(X_train, y_train)"
   ]
  },
  {
   "cell_type": "code",
   "execution_count": 45,
   "id": "e7d9b00b",
   "metadata": {},
   "outputs": [
    {
     "name": "stdout",
     "output_type": "stream",
     "text": [
      "              precision    recall  f1-score   support\n",
      "\n",
      "           0       0.98      1.00      0.99       953\n",
      "           1       0.99      0.88      0.93       162\n",
      "\n",
      "    accuracy                           0.98      1115\n",
      "   macro avg       0.98      0.94      0.96      1115\n",
      "weighted avg       0.98      0.98      0.98      1115\n",
      "\n"
     ]
    }
   ],
   "source": [
    "y_pred = clf.predict(X_test)\n",
    "\n",
    "print(classification_report(y_test, y_pred))"
   ]
  },
  {
   "cell_type": "code",
   "execution_count": null,
   "id": "99ffa493",
   "metadata": {},
   "outputs": [],
   "source": []
  }
 ],
 "metadata": {
  "kernelspec": {
   "display_name": "Python 3 (ipykernel)",
   "language": "python",
   "name": "python3"
  },
  "language_info": {
   "codemirror_mode": {
    "name": "ipython",
    "version": 3
   },
   "file_extension": ".py",
   "mimetype": "text/x-python",
   "name": "python",
   "nbconvert_exporter": "python",
   "pygments_lexer": "ipython3",
   "version": "3.8.0"
  }
 },
 "nbformat": 4,
 "nbformat_minor": 5
}
